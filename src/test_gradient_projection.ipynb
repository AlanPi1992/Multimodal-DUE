{
 "cells": [
  {
   "cell_type": "code",
   "execution_count": 47,
   "metadata": {},
   "outputs": [],
   "source": [
    "import numpy as np\n",
    "import scipy"
   ]
  },
  {
   "cell_type": "code",
   "execution_count": 237,
   "metadata": {},
   "outputs": [],
   "source": [
    "def get_projection(q, x):\n",
    "    # solve min |y-x|_2^2, s.t sum(y) = q, y >= 0\n",
    "    q = np.float(q)\n",
    "    n = len(x)\n",
    "    min_x = np.min(x)\n",
    "    x_sum = np.sum(x)\n",
    "    sorted_x = np.sort(x)\n",
    "    for i in range(n-1):\n",
    "        lambda_2 = ((x_sum - np.sum(sorted_x[:i])) - q) / np.float(n - i)\n",
    "        if lambda_2 <= min_x:\n",
    "            if i == 0:\n",
    "                thres = -np.inf\n",
    "            else:\n",
    "                thres = sorted_x[i-1]\n",
    "            res = (x - lambda_2)\n",
    "            res[x <= thres] = 0\n",
    "            return res"
   ]
  },
  {
   "cell_type": "code",
   "execution_count": 228,
   "metadata": {},
   "outputs": [
    {
     "data": {
      "text/plain": [
       "array([8.36576528e-01, 2.36509688e-09, 2.45804766e-09, 4.44921945e-01,\n",
       "       6.48043754e-03, 6.65211422e-09, 7.22082635e-01, 6.48681756e-01,\n",
       "       3.94535662e-09, 8.09268819e-01, 2.21394370e-09, 2.39537730e-08,\n",
       "       3.61426841e-02, 9.20642672e-01, 3.63456943e-09, 2.41798630e-09,\n",
       "       2.45334976e-09, 1.21241241e-01, 2.54266682e-09, 4.53961229e-01])"
      ]
     },
     "execution_count": 228,
     "metadata": {},
     "output_type": "execute_result"
    }
   ],
   "source": [
    "x"
   ]
  },
  {
   "cell_type": "code",
   "execution_count": 229,
   "metadata": {},
   "outputs": [
    {
     "data": {
      "text/plain": [
       "array([0.52763182, 0.        , 0.38565815, 0.0565248 , 0.28274823,\n",
       "       0.        , 0.5784813 , 0.        , 0.        , 0.13740064,\n",
       "       0.60825819, 0.02520689, 0.02380493, 0.12863033, 0.29770959,\n",
       "       0.5333808 , 0.16338294, 0.61738011, 0.04822385, 0.58557744])"
      ]
     },
     "execution_count": 229,
     "metadata": {},
     "output_type": "execute_result"
    }
   ],
   "source": [
    "get_projection(5, np.random.rand(20))"
   ]
  },
  {
   "cell_type": "code",
   "execution_count": 230,
   "metadata": {},
   "outputs": [],
   "source": [
    "from cvxopt import matrix, solvers"
   ]
  },
  {
   "cell_type": "code",
   "execution_count": 231,
   "metadata": {},
   "outputs": [
    {
     "name": "stdout",
     "output_type": "stream",
     "text": [
      "     pcost       dcost       gap    pres   dres\n",
      " 0:  1.8889e+00  7.7778e-01  1e+00  2e-16  2e+00\n",
      " 1:  1.8769e+00  1.8320e+00  4e-02  2e-16  6e-02\n",
      " 2:  1.8750e+00  1.8739e+00  1e-03  2e-16  5e-04\n",
      " 3:  1.8750e+00  1.8750e+00  1e-05  1e-16  5e-06\n",
      " 4:  1.8750e+00  1.8750e+00  1e-07  1e-16  5e-08\n",
      "Optimal solution found.\n"
     ]
    }
   ],
   "source": [
    "Q = 2*matrix([ [2, .5], [.5, 1] ])\n",
    "p = matrix([1.0, 1.0])\n",
    "G = matrix([[-1.0,0.0],[0.0,-1.0]])\n",
    "h = matrix([0.0,0.0])\n",
    "A = matrix([1.0, 1.0], (1,2))\n",
    "b = matrix(1.0)\n",
    "sol=solvers.qp(Q, p, G, h, A, b)"
   ]
  },
  {
   "cell_type": "code",
   "execution_count": 232,
   "metadata": {},
   "outputs": [],
   "source": [
    "def solve_cvx(q, x):\n",
    "    q = np.float(q)\n",
    "    n = len(x)\n",
    "    Q = matrix(np.eye(n), (n,n))\n",
    "    p = matrix(-2 * x, (n, 1))\n",
    "    G = matrix(-np.eye(n), (n, n))\n",
    "    h = matrix(np.zeros(n), (n, 1))\n",
    "    A = matrix(np.ones(n), (1, n))\n",
    "    b = matrix(q)\n",
    "    sol = solvers.qp(Q, p, G, h, A, b)\n",
    "    return np.array(sol['x']).flatten()"
   ]
  },
  {
   "cell_type": "code",
   "execution_count": 251,
   "metadata": {},
   "outputs": [
    {
     "name": "stdout",
     "output_type": "stream",
     "text": [
      "     pcost       dcost       gap    pres   dres\n",
      " 0: -9.4808e+02 -7.4674e+02  1e+04  1e+02  1e+00\n",
      " 1: -4.7488e+02 -5.2797e+02  7e+02  5e+00  6e-02\n",
      " 2: -3.1715e+02 -4.0922e+02  9e+01  1e-15  7e-16\n",
      " 3: -3.4240e+02 -3.5581e+02  1e+01  1e-15  2e-16\n",
      " 4: -3.5084e+02 -3.5205e+02  1e+00  1e-15  2e-16\n",
      " 5: -3.5173e+02 -3.5179e+02  6e-02  1e-15  2e-16\n",
      " 6: -3.5177e+02 -3.5177e+02  2e-03  1e-15  2e-16\n",
      " 7: -3.5177e+02 -3.5177e+02  1e-04  1e-15  2e-16\n",
      "Optimal solution found.\n"
     ]
    }
   ],
   "source": [
    "tmp_x = np.random.rand(6000)\n",
    "target = 200\n",
    "x1 = solve_cvx(target, tmp_x)\n",
    "x2 = get_projection(target, tmp_x)"
   ]
  },
  {
   "cell_type": "code",
   "execution_count": 252,
   "metadata": {},
   "outputs": [
    {
     "name": "stdout",
     "output_type": "stream",
     "text": [
      "199.99999999999972\n",
      "200.00000000000003\n"
     ]
    }
   ],
   "source": [
    "print np.sum(x1)\n",
    "print np.sum(x2)"
   ]
  },
  {
   "cell_type": "code",
   "execution_count": 253,
   "metadata": {},
   "outputs": [
    {
     "name": "stdout",
     "output_type": "stream",
     "text": [
      "40.55861073458974\n",
      "42.147728962670065\n"
     ]
    }
   ],
   "source": [
    "print np.linalg.norm(x1 - tmp_x)\n",
    "print np.linalg.norm(x2 - tmp_x)"
   ]
  },
  {
   "cell_type": "code",
   "execution_count": null,
   "metadata": {},
   "outputs": [],
   "source": []
  }
 ],
 "metadata": {
  "kernelspec": {
   "display_name": "Python 2",
   "language": "python",
   "name": "python2"
  },
  "language_info": {
   "codemirror_mode": {
    "name": "ipython",
    "version": 2
   },
   "file_extension": ".py",
   "mimetype": "text/x-python",
   "name": "python",
   "nbconvert_exporter": "python",
   "pygments_lexer": "ipython2",
   "version": "2.7.10"
  }
 },
 "nbformat": 4,
 "nbformat_minor": 2
}
