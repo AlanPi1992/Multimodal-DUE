{
 "cells": [
  {
   "cell_type": "code",
   "execution_count": 1,
   "metadata": {},
   "outputs": [],
   "source": [
    "import numpy as np\n",
    "import scipy"
   ]
  },
  {
   "cell_type": "code",
   "execution_count": 35,
   "metadata": {},
   "outputs": [],
   "source": [
    "def get_projection(q, x):\n",
    "    # solve min |y-x|_2^2, s.t sum(y) = q, y >= 0\n",
    "    q = np.float(q)\n",
    "    if q == 0:\n",
    "        return np.zeros(x.shape)\n",
    "    n = len(x)\n",
    "    min_x = np.min(x)\n",
    "    x_sum = np.sum(x)\n",
    "    sorted_x = np.sort(x)\n",
    "    for i in range(n-1):\n",
    "        lambda_2 = ((x_sum - np.sum(sorted_x[:i])) - q) / np.float(n - i)\n",
    "        if lambda_2 <= min_x:\n",
    "            if i == 0:\n",
    "                thres = -np.inf\n",
    "            else:\n",
    "                thres = sorted_x[i-1]\n",
    "            res = (x - lambda_2)\n",
    "            res[x <= thres] = 0\n",
    "            return res\n",
    "    return q / np.sum(x) * x"
   ]
  },
  {
   "cell_type": "code",
   "execution_count": 229,
   "metadata": {},
   "outputs": [
    {
     "data": {
      "text/plain": [
       "array([0.52763182, 0.        , 0.38565815, 0.0565248 , 0.28274823,\n",
       "       0.        , 0.5784813 , 0.        , 0.        , 0.13740064,\n",
       "       0.60825819, 0.02520689, 0.02380493, 0.12863033, 0.29770959,\n",
       "       0.5333808 , 0.16338294, 0.61738011, 0.04822385, 0.58557744])"
      ]
     },
     "execution_count": 229,
     "metadata": {},
     "output_type": "execute_result"
    }
   ],
   "source": [
    "get_projection(5, np.random.rand(20))"
   ]
  },
  {
   "cell_type": "code",
   "execution_count": 6,
   "metadata": {},
   "outputs": [],
   "source": [
    "from cvxopt import matrix, solvers"
   ]
  },
  {
   "cell_type": "code",
   "execution_count": 7,
   "metadata": {},
   "outputs": [],
   "source": [
    "def solve_cvx(q, x):\n",
    "    q = np.float(q)\n",
    "    n = len(x)\n",
    "    Q = matrix(np.eye(n), (n,n))\n",
    "    p = matrix(-2 * x, (n, 1))\n",
    "    G = matrix(-np.eye(n), (n, n))\n",
    "    h = matrix(np.zeros(n), (n, 1))\n",
    "    A = matrix(np.ones(n), (1, n))\n",
    "    b = matrix(q)\n",
    "    sol = solvers.qp(Q, p, G, h, A, b)\n",
    "    return np.array(sol['x']).flatten()"
   ]
  },
  {
   "cell_type": "code",
   "execution_count": 47,
   "metadata": {},
   "outputs": [
    {
     "name": "stdout",
     "output_type": "stream",
     "text": [
      "     pcost       dcost       gap    pres   dres\n",
      " 0: -2.4183e+02 -4.0597e+01  2e+03  5e+01  1e-01\n",
      " 1: -2.7854e+01  5.3752e+01  1e+02  4e+00  9e-03\n",
      " 2:  6.4528e+01  6.2220e+01  4e+00  3e-02  7e-05\n",
      " 3:  6.4791e+01  6.4327e+01  7e-01  5e-03  1e-05\n",
      " 4:  6.4618e+01  6.4529e+01  1e-01  3e-04  6e-07\n",
      " 5:  6.4550e+01  6.4545e+01  5e-03  8e-06  2e-08\n",
      " 6:  6.4546e+01  6.4546e+01  2e-04  1e-07  3e-10\n",
      " 7:  6.4546e+01  6.4546e+01  6e-06  1e-09  3e-12\n",
      "Optimal solution found.\n"
     ]
    }
   ],
   "source": [
    "tmp_x = np.random.rand(600) * 2 - 10\n",
    "target = 4\n",
    "x1 = solve_cvx(target, tmp_x)\n",
    "x2 = get_projection(target, tmp_x)"
   ]
  },
  {
   "cell_type": "code",
   "execution_count": 48,
   "metadata": {},
   "outputs": [
    {
     "name": "stdout",
     "output_type": "stream",
     "text": [
      "3.9999999999999987\n",
      "3.999999999999037\n"
     ]
    }
   ],
   "source": [
    "print np.sum(x1)\n",
    "print np.sum(x2)"
   ]
  },
  {
   "cell_type": "code",
   "execution_count": 49,
   "metadata": {},
   "outputs": [
    {
     "name": "stdout",
     "output_type": "stream",
     "text": [
      "220.87562014046455\n",
      "220.89199806429198\n"
     ]
    }
   ],
   "source": [
    "print np.linalg.norm(x1 - tmp_x)\n",
    "print np.linalg.norm(x2 - tmp_x)"
   ]
  },
  {
   "cell_type": "code",
   "execution_count": null,
   "metadata": {},
   "outputs": [],
   "source": []
  },
  {
   "cell_type": "code",
   "execution_count": null,
   "metadata": {},
   "outputs": [],
   "source": []
  }
 ],
 "metadata": {
  "kernelspec": {
   "display_name": "Python 2",
   "language": "python",
   "name": "python2"
  },
  "language_info": {
   "codemirror_mode": {
    "name": "ipython",
    "version": 2
   },
   "file_extension": ".py",
   "mimetype": "text/x-python",
   "name": "python",
   "nbconvert_exporter": "python",
   "pygments_lexer": "ipython2",
   "version": "2.7.10"
  }
 },
 "nbformat": 4,
 "nbformat_minor": 2
}
