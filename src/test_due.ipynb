{
 "cells": [
  {
   "cell_type": "code",
   "execution_count": 1,
   "metadata": {},
   "outputs": [],
   "source": [
    "%load_ext autoreload\n",
    "%autoreload 2"
   ]
  },
  {
   "cell_type": "code",
   "execution_count": 2,
   "metadata": {},
   "outputs": [],
   "source": [
    "import os\n",
    "import numpy as np\n",
    "import sys\n",
    "sys.path.append(\"/home/lemma/Documents/MAC-POSTS/side_project/network_builder\")"
   ]
  },
  {
   "cell_type": "code",
   "execution_count": 3,
   "metadata": {},
   "outputs": [],
   "source": [
    "from models import *\n",
    "import MNMAPI\n",
    "from MNM_mcnb import *"
   ]
  },
  {
   "cell_type": "code",
   "execution_count": 4,
   "metadata": {},
   "outputs": [
    {
     "name": "stdout",
     "output_type": "stream",
     "text": [
      "Creating route for: single_drive\n",
      "Creating route for: single_drive\n",
      "Creating route for: multiple_drive\n",
      "Creating route for: metro\n",
      "Creating route for: pnr\n",
      "Creating route for: pnr\n",
      "Creating route for: pnr\n",
      "Creating route for: pnr\n",
      "Creating route for: single_drive\n",
      "Creating route for: single_drive\n",
      "Creating route for: multiple_drive\n",
      "Creating route for: transit\n",
      "Creating route for: pnr\n",
      "Creating route for: single_drive\n",
      "Creating route for: single_drive\n",
      "Creating route for: multiple_drive\n",
      "Creating route for: pnr\n"
     ]
    }
   ],
   "source": [
    "from exp_config import *"
   ]
  },
  {
   "cell_type": "code",
   "execution_count": 5,
   "metadata": {},
   "outputs": [],
   "source": [
    "data_folder = '../data/input_files_small_multiclass'\n",
    "nb = MNM_network_builder()\n",
    "nb.load_from_folder(data_folder)"
   ]
  },
  {
   "cell_type": "code",
   "execution_count": 6,
   "metadata": {},
   "outputs": [
    {
     "name": "stdout",
     "output_type": "stream",
     "text": [
      "Init simulation\n"
     ]
    }
   ],
   "source": [
    "mcdue = Multimode_DUE(nb)"
   ]
  },
  {
   "cell_type": "code",
   "execution_count": 7,
   "metadata": {},
   "outputs": [],
   "source": [
    "init_path_matrix = mcdue.init_path_matrix(path_list, demand_dict)"
   ]
  },
  {
   "cell_type": "code",
   "execution_count": null,
   "metadata": {
    "scrolled": false
   },
   "outputs": [
    {
     "name": "stdout",
     "output_type": "stream",
     "text": [
      "0 2080944.6372847972\n",
      "1 2032778.5084756115\n",
      "2 1980022.9084754433\n",
      "3 1931548.2041345756\n",
      "4 1890474.6389459805\n",
      "5 1836240.4412823508\n",
      "6 1790737.0809962098\n",
      "7 1737877.859153663\n",
      "8 1681324.8383895517\n",
      "9 1628881.1676825027\n",
      "10 1579903.0241706306\n",
      "11 1540278.259529528\n",
      "12 1494147.440792256\n",
      "13 1431337.1347369866\n",
      "14 1390681.266931776\n",
      "15 1345646.3454806227\n",
      "16 1284392.1065595744\n",
      "17 1229696.898900689\n",
      "18 1197916.6038770378\n",
      "19 1135984.2444250698\n",
      "20 1102615.8983273604\n",
      "21 1039341.6459471766\n",
      "22 999472.8051932338\n",
      "23 954761.7982886055\n",
      "24 905019.9021999835\n",
      "25 859279.3981946586\n",
      "26 818606.9281278878\n",
      "27 795436.723403699\n",
      "28 756098.379701951\n",
      "29 701968.4488102921\n",
      "30 681911.0780720874\n",
      "31 642532.783877988\n",
      "32 598191.5509721029\n",
      "33 576640.4929749549\n",
      "34 530816.2590594959\n",
      "35 521206.9757888865\n",
      "36 502994.6679336943\n",
      "37 469808.34680646297\n",
      "38 468784.0893448598\n",
      "39 452235.85707071825\n",
      "40 429347.6930480359\n",
      "41 418084.5074347147\n",
      "42 411937.8812560462\n",
      "43 389547.71989172196\n",
      "44 377762.36579516483\n",
      "45 374062.243001617\n",
      "46 362895.91970174393\n",
      "47 402695.6502521603\n",
      "48 389336.55494803586\n",
      "49 370547.446846378\n",
      "50 393239.24820987217\n",
      "51 347482.3539648155\n",
      "52 350823.3839094605\n",
      "53 342519.52496563323\n",
      "54 380029.7266951517\n",
      "55 353228.7090428709\n",
      "56 409653.65612970997\n",
      "57 363410.5064776485\n",
      "58 322848.137275768\n",
      "59 328856.44577344874\n",
      "60 325875.60857917287\n",
      "61 321349.21042238915\n",
      "62 323941.3951185697\n",
      "63 316486.9415437573\n",
      "64 315317.4951977389\n",
      "65 304670.86562176177\n",
      "66 302181.8701640189\n",
      "67 332151.1976113981\n"
     ]
    }
   ],
   "source": [
    "path_matrix, _ = mcdue.solve(init_path_matrix, path_list, demand_dict, ab_dict, choice_dict, num_iters = 100)"
   ]
  },
  {
   "cell_type": "code",
   "execution_count": 4,
   "metadata": {},
   "outputs": [
    {
     "data": {
      "text/plain": [
       "0L"
      ]
     },
     "execution_count": 4,
     "metadata": {},
     "output_type": "execute_result"
    }
   ],
   "source": [
    "# nb = MNM_network_builder()\n",
    "# nb.load_from_folder('cache')\n",
    "# link_ID_list = list(map(lambda x: x.ID, nb.link_list))\n",
    "# dta = MNMAPI.mcdta_api()\n",
    "# # print '15'\n",
    "# dta.initialize('cache')\n",
    "# # print '16'\n",
    "# dta.register_links(link_ID_list)\n",
    "# # print '17'\n",
    "# dta.run_whole()"
   ]
  },
  {
   "cell_type": "code",
   "execution_count": null,
   "metadata": {},
   "outputs": [],
   "source": []
  }
 ],
 "metadata": {
  "kernelspec": {
   "display_name": "Python 2",
   "language": "python",
   "name": "python2"
  },
  "language_info": {
   "codemirror_mode": {
    "name": "ipython",
    "version": 2
   },
   "file_extension": ".py",
   "mimetype": "text/x-python",
   "name": "python",
   "nbconvert_exporter": "python",
   "pygments_lexer": "ipython2",
   "version": "2.7.10"
  }
 },
 "nbformat": 4,
 "nbformat_minor": 2
}
