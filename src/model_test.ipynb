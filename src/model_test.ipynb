{
 "cells": [
  {
   "cell_type": "code",
   "execution_count": 1,
   "metadata": {},
   "outputs": [],
   "source": [
    "%load_ext autoreload\n",
    "%autoreload 2"
   ]
  },
  {
   "cell_type": "code",
   "execution_count": 2,
   "metadata": {},
   "outputs": [],
   "source": [
    "import os\n",
    "import numpy as np\n",
    "import sys"
   ]
  },
  {
   "cell_type": "code",
   "execution_count": 3,
   "metadata": {},
   "outputs": [],
   "source": [
    "sys.path.append(\"/home/lemma/Documents/MAC-POSTS/side_project/network_builder\")"
   ]
  },
  {
   "cell_type": "code",
   "execution_count": 4,
   "metadata": {},
   "outputs": [],
   "source": [
    "from models import *\n",
    "import MNMAPI\n",
    "from MNM_mcnb import *"
   ]
  },
  {
   "cell_type": "code",
   "execution_count": 13,
   "metadata": {},
   "outputs": [
    {
     "name": "stdout",
     "output_type": "stream",
     "text": [
      "Creating route for: single_drive\n",
      "Creating route for: single_drive\n",
      "Creating route for: multiple_drive\n",
      "Creating route for: metro\n",
      "Creating route for: pnr\n",
      "Creating route for: pnr\n",
      "Creating route for: pnr\n",
      "Creating route for: pnr\n",
      "Creating route for: single_drive\n",
      "Creating route for: single_drive\n",
      "Creating route for: multiple_drive\n",
      "Creating route for: transit\n",
      "Creating route for: pnr\n",
      "Creating route for: single_drive\n",
      "Creating route for: single_drive\n",
      "Creating route for: multiple_drive\n",
      "Creating route for: pnr\n"
     ]
    }
   ],
   "source": [
    "from exp_config import *"
   ]
  },
  {
   "cell_type": "code",
   "execution_count": 14,
   "metadata": {},
   "outputs": [],
   "source": [
    "data_folder = '../data/input_files_small_multiclass'"
   ]
  },
  {
   "cell_type": "code",
   "execution_count": 15,
   "metadata": {},
   "outputs": [],
   "source": [
    "nb = MNM_network_builder()"
   ]
  },
  {
   "cell_type": "code",
   "execution_count": 16,
   "metadata": {},
   "outputs": [],
   "source": [
    "nb.load_from_folder(data_folder)"
   ]
  },
  {
   "cell_type": "code",
   "execution_count": 30,
   "metadata": {},
   "outputs": [
    {
     "name": "stdout",
     "output_type": "stream",
     "text": [
      "Init simulation\n"
     ]
    }
   ],
   "source": [
    "mcdue = Multimode_DUE(nb)"
   ]
  },
  {
   "cell_type": "code",
   "execution_count": 31,
   "metadata": {},
   "outputs": [],
   "source": [
    "init_path_matrix = mcdue.init_path_matrix(path_list, demand_dict)"
   ]
  },
  {
   "cell_type": "code",
   "execution_count": null,
   "metadata": {},
   "outputs": [
    {
     "name": "stdout",
     "output_type": "stream",
     "text": [
      "1\n",
      "2\n",
      "11\n",
      "12\n",
      "13\n",
      "14\n",
      "15\n",
      "16\n",
      "17\n",
      "18\n"
     ]
    }
   ],
   "source": [
    "mcdue.solve(init_path_matrix, path_list, demand_dict, ab_dict, \n",
    "                    choice_dict, num_iters = 100, gd_method = 'MSA', name = \"trans5pnr5pool5\")"
   ]
  }
 ],
 "metadata": {
  "kernelspec": {
   "display_name": "Python 2",
   "language": "python",
   "name": "python2"
  },
  "language_info": {
   "codemirror_mode": {
    "name": "ipython",
    "version": 2
   },
   "file_extension": ".py",
   "mimetype": "text/x-python",
   "name": "python",
   "nbconvert_exporter": "python",
   "pygments_lexer": "ipython2",
   "version": "2.7.10"
  }
 },
 "nbformat": 4,
 "nbformat_minor": 2
}
