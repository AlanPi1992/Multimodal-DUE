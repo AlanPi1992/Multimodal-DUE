{
 "cells": [
  {
   "cell_type": "code",
   "execution_count": 1,
   "metadata": {},
   "outputs": [],
   "source": [
    "%load_ext autoreload\n",
    "%autoreload 2"
   ]
  },
  {
   "cell_type": "code",
   "execution_count": 2,
   "metadata": {},
   "outputs": [],
   "source": [
    "import os\n",
    "import numpy as np\n",
    "import sys"
   ]
  },
  {
   "cell_type": "code",
   "execution_count": 3,
   "metadata": {},
   "outputs": [],
   "source": [
    "sys.path.append(\"/home/lemma/Documents/MAC-POSTS/side_project/network_builder\")"
   ]
  },
  {
   "cell_type": "code",
   "execution_count": 17,
   "metadata": {},
   "outputs": [],
   "source": [
    "from models import *\n",
    "import MNMAPI\n",
    "from MNM_mcnb import *"
   ]
  },
  {
   "cell_type": "code",
   "execution_count": 5,
   "metadata": {},
   "outputs": [],
   "source": [
    "target_time = 3600\n",
    "early_penalty = 0.7\n",
    "late_penalty = 10"
   ]
  },
  {
   "cell_type": "code",
   "execution_count": 9,
   "metadata": {},
   "outputs": [],
   "source": [
    "# s = driving_route(target_time, early_penalty, late_penalty, [0,0,0], [1, 2, 4], 1, 3, 120)"
   ]
  },
  {
   "cell_type": "code",
   "execution_count": 50,
   "metadata": {},
   "outputs": [
    {
     "name": "stdout",
     "output_type": "stream",
     "text": [
      "Creating route for: single_drive\n"
     ]
    }
   ],
   "source": [
    "single_driving_config = dict()\n",
    "single_driving_config['mode'] = 'single_drive'\n",
    "single_driving_config['target_time'] = target_time\n",
    "single_driving_config['early_penalty'] = early_penalty\n",
    "single_driving_config['late_penalty'] = late_penalty\n",
    "single_driving_config['ID_list'] = [0, 0, 0]\n",
    "single_driving_config['O'] = 0\n",
    "single_driving_config['D'] = 1\n",
    "single_driving_config['link_list'] = [0, 1, 2]\n",
    "single_driving_config['path_ID'] = 0\n",
    "single_driving_config['number_people'] = 1\n",
    "single_driving_config['parking_lot'] = parking_lot(5)\n",
    "single_driving_config['walking_time1'] = 3\n",
    "single_driving_config['walking_time2'] = 3\n",
    "p1 = make_path(single_driving_config)"
   ]
  },
  {
   "cell_type": "code",
   "execution_count": 51,
   "metadata": {},
   "outputs": [
    {
     "name": "stdout",
     "output_type": "stream",
     "text": [
      "Creating route for: multiple_drive\n"
     ]
    }
   ],
   "source": [
    "multiple_driving_config = dict()\n",
    "multiple_driving_config['mode'] = 'multiple_drive'\n",
    "multiple_driving_config['target_time'] = target_time\n",
    "multiple_driving_config['early_penalty'] = early_penalty\n",
    "multiple_driving_config['late_penalty'] = late_penalty\n",
    "multiple_driving_config['ID_list'] = [0, 0, 0]\n",
    "multiple_driving_config['O'] = 0\n",
    "multiple_driving_config['D'] = 1\n",
    "multiple_driving_config['link_list'] = [1, 2, 3]\n",
    "multiple_driving_config['path_ID'] = 1\n",
    "multiple_driving_config['number_people'] = 2\n",
    "multiple_driving_config['parking_lot'] = parking_lot(5)\n",
    "multiple_driving_config['walking_time1'] = 3\n",
    "multiple_driving_config['walking_time2'] = 3\n",
    "p2 = make_path(multiple_driving_config)"
   ]
  },
  {
   "cell_type": "code",
   "execution_count": 71,
   "metadata": {},
   "outputs": [
    {
     "name": "stdout",
     "output_type": "stream",
     "text": [
      "Creating route for: transit\n"
     ]
    }
   ],
   "source": [
    "transit_config = dict()\n",
    "transit_config['mode'] = 'transit'\n",
    "transit_config['target_time'] = target_time\n",
    "transit_config['early_penalty'] = early_penalty\n",
    "transit_config['late_penalty'] = late_penalty\n",
    "transit_config['ID_list'] = [0, 0, 0]\n",
    "transit_config['O'] = 0\n",
    "transit_config['D'] = 1\n",
    "transit_config['link_list'] = [2, 4, 5]\n",
    "transit_config['path_ID'] = 2\n",
    "transit_config['transit_fare'] = 5\n",
    "transit_config['walking_time1'] = 4\n",
    "transit_config['walking_time2'] = 5\n",
    "transit_config['transit_time'] = 40\n",
    "p3 = make_path(transit_config)"
   ]
  },
  {
   "cell_type": "code",
   "execution_count": 74,
   "metadata": {},
   "outputs": [
    {
     "name": "stdout",
     "output_type": "stream",
     "text": [
      "Creating route for: metro\n"
     ]
    }
   ],
   "source": [
    "metro_config = dict()\n",
    "metro_config['mode'] = 'metro'\n",
    "metro_config['target_time'] = target_time\n",
    "metro_config['early_penalty'] = early_penalty \n",
    "metro_config['late_penalty'] = late_penalty\n",
    "metro_config['O'] = 0\n",
    "metro_config['D'] = 1\n",
    "metro_config['ID_list'] = [0,1,3]\n",
    "metro_config['walking_time1'] = 40\n",
    "metro_config['metro_time'] = 100\n",
    "metro_config['walking_time2'] = 30\n",
    "metro_config['metro_fee'] = 5\n",
    "p4 = make_path(metro_config)"
   ]
  },
  {
   "cell_type": "code",
   "execution_count": 75,
   "metadata": {},
   "outputs": [
    {
     "name": "stdout",
     "output_type": "stream",
     "text": [
      "Creating route for: pnr\n"
     ]
    }
   ],
   "source": [
    "pnr_config = dict()\n",
    "pnr_config['mode'] = 'pnr'\n",
    "pnr_config['target_time'] = target_time\n",
    "pnr_config['early_penalty'] = early_penalty\n",
    "pnr_config['late_penalty'] = late_penalty\n",
    "pnr_config['ID_list'] = [0, 0, 0]\n",
    "pnr_config['O'] = 0\n",
    "pnr_config['D'] = 1\n",
    "pnr_config['car_link_list'] = [1, 2, 3]\n",
    "pnr_config['car_path_ID'] = 1\n",
    "pnr_config['transit_link_list'] = [1, 2, 3]\n",
    "pnr_config['transit_path_ID'] = 4\n",
    "pnr_config['parking_lot'] = parking_lot(3)\n",
    "pnr_config['transit_fare'] = 5\n",
    "pnr_config['before_drive_walking_time'] = 3\n",
    "pnr_config['switching_time'] = 5\n",
    "pnr_config['after_transit_walking_time'] = 1\n",
    "pnr_config['transit_time'] = 2\n",
    "p5 = make_path(pnr_config)"
   ]
  },
  {
   "cell_type": "code",
   "execution_count": 13,
   "metadata": {},
   "outputs": [],
   "source": [
    "a = MNMAPI.mcdta_api()"
   ]
  },
  {
   "cell_type": "markdown",
   "metadata": {},
   "source": [
    "## Test NB"
   ]
  },
  {
   "cell_type": "code",
   "execution_count": 14,
   "metadata": {},
   "outputs": [],
   "source": [
    "data_folder = '../data/input_files_small_multiclass'"
   ]
  },
  {
   "cell_type": "code",
   "execution_count": 15,
   "metadata": {},
   "outputs": [
    {
     "name": "stdout",
     "output_type": "stream",
     "text": [
      "MNM_config\n",
      "MNM_pathtable\n"
     ]
    }
   ],
   "source": [
    "nb = MNM_network_builder()"
   ]
  },
  {
   "cell_type": "code",
   "execution_count": 16,
   "metadata": {},
   "outputs": [
    {
     "name": "stdout",
     "output_type": "stream",
     "text": [
      "No demand input\n",
      "No route choice portition for path table\n"
     ]
    }
   ],
   "source": [
    "nb.load_from_folder(data_folder)"
   ]
  },
  {
   "cell_type": "code",
   "execution_count": 129,
   "metadata": {},
   "outputs": [],
   "source": [
    "num_assign_intervals = nb.config.config_dict['DTA']['max_interval']"
   ]
  },
  {
   "cell_type": "code",
   "execution_count": 130,
   "metadata": {},
   "outputs": [],
   "source": [
    "demand_dict = dict()\n",
    "demand_dict[1] = dict()\n",
    "demand_dict[2] = dict()\n",
    "demand_dict[3] = dict()\n",
    "demand_dict[4] = dict()\n",
    "demand_dict[5] = dict()\n",
    "demand_dict[1][1] = [np.ones(num_assign_intervals) * 10, np.zeros(num_assign_intervals)]\n",
    "demand_dict[2][1] = [np.zeros(num_assign_intervals), np.ones(num_assign_intervals) * 1]\n",
    "demand_dict[3][1] = [np.ones(num_assign_intervals) * 10, np.zeros(num_assign_intervals)]\n",
    "demand_dict[4][1] = [np.ones(num_assign_intervals) * 10, np.zeros(num_assign_intervals)]\n",
    "demand_dict[5][1] = [np.zeros(num_assign_intervals), np.ones(num_assign_intervals) * 10]\n",
    "demand_dict[1][2] = [np.ones(num_assign_intervals) * 10, np.zeros(num_assign_intervals)]\n",
    "demand_dict[1][3] = [np.ones(num_assign_intervals) * 10, np.zeros(num_assign_intervals)]\n",
    "demand_dict[3][2] = [np.ones(num_assign_intervals) * 10, np.zeros(num_assign_intervals)]\n",
    "demand_dict[4][3] = [np.ones(num_assign_intervals) * 10, np.zeros(num_assign_intervals)]"
   ]
  },
  {
   "cell_type": "code",
   "execution_count": 131,
   "metadata": {},
   "outputs": [],
   "source": [
    "choice_dict = dict()\n",
    "choice_dict = dict()\n",
    "choice_dict[1] = dict()\n",
    "choice_dict[2] = dict()\n",
    "choice_dict[3] = dict()\n",
    "choice_dict[4] = dict()\n",
    "choice_dict[5] = dict()\n",
    "choice_dict[1][1] = 0\n",
    "choice_dict[2][1] = 1\n",
    "choice_dict[3][1] = 0\n",
    "choice_dict[4][1] = 0\n",
    "choice_dict[5][1] = 1\n",
    "choice_dict[1][2] = 0\n",
    "choice_dict[1][3] = 0\n",
    "choice_dict[3][2] = 0\n",
    "choice_dict[4][3] = 0"
   ]
  },
  {
   "cell_type": "code",
   "execution_count": 132,
   "metadata": {},
   "outputs": [
    {
     "data": {
      "text/plain": [
       "OrderedDict([(0, MNM_path, path ID 0, O node: 101, D node 105),\n",
       "             (1, MNM_path, path ID 1, O node: 101, D node 105),\n",
       "             (2, MNM_path, path ID 2, O node: 102, D node 105),\n",
       "             (3, MNM_path, path ID 3, O node: 103, D node 105),\n",
       "             (4, MNM_path, path ID 4, O node: 103, D node 105),\n",
       "             (5, MNM_path, path ID 5, O node: 104, D node 105),\n",
       "             (6, MNM_path, path ID 6, O node: 104, D node 105),\n",
       "             (7, MNM_path, path ID 7, O node: 108, D node 105),\n",
       "             (8, MNM_path, path ID 8, O node: 101, D node 106),\n",
       "             (9, MNM_path, path ID 9, O node: 101, D node 106),\n",
       "             (10, MNM_path, path ID 10, O node: 101, D node 107),\n",
       "             (11, MNM_path, path ID 11, O node: 101, D node 107),\n",
       "             (12, MNM_path, path ID 12, O node: 103, D node 106),\n",
       "             (13, MNM_path, path ID 13, O node: 104, D node 107)])"
      ]
     },
     "execution_count": 132,
     "metadata": {},
     "output_type": "execute_result"
    }
   ],
   "source": [
    "nb.path_table.ID2path"
   ]
  },
  {
   "cell_type": "code",
   "execution_count": 133,
   "metadata": {},
   "outputs": [],
   "source": [
    "def get_uniform_mcflow(demand_dict, path_dict, ID2path, MNM_od, num_assign_intervals):\n",
    "    f_car = np.ones((len(ID2path), num_assign_intervals))\n",
    "    f_truck = np.ones((len(ID2path), num_assign_intervals))\n",
    "    for O_node in path_dict.keys():\n",
    "        O = MNM_od.O_dict.inv[O_node]\n",
    "        for D_node in path_dict[O_node].keys():\n",
    "            D = MNM_od.D_dict.inv[D_node]\n",
    "            path_list = path_dict[O_node][D_node].path_list\n",
    "            num_path = len(path_list)\n",
    "            for path in path_list:\n",
    "                idx = ID2path.keys().index(path.path_ID)\n",
    "                f_car[idx, :] = demand_dict[O][D][0] / np.float(num_path)\n",
    "                f_truck[idx, :] = demand_dict[O][D][1] / np.float(num_path)\n",
    "    return f_car.flatten(order = \"F\"), f_truck.flatten(order = \"F\")"
   ]
  },
  {
   "cell_type": "code",
   "execution_count": 134,
   "metadata": {},
   "outputs": [],
   "source": [
    "f_car, f_truck = get_uniform_mcflow(demand_dict, nb.path_table.path_dict, nb.path_table.ID2path, nb.od, num_assign_intervals)"
   ]
  },
  {
   "cell_type": "code",
   "execution_count": 135,
   "metadata": {},
   "outputs": [],
   "source": [
    "nb.update_demand_path(f_car, f_truck, choice_dict)"
   ]
  },
  {
   "cell_type": "code",
   "execution_count": 136,
   "metadata": {},
   "outputs": [],
   "source": [
    "nb.dump_to_folder(\"test\")"
   ]
  },
  {
   "cell_type": "code",
   "execution_count": null,
   "metadata": {},
   "outputs": [],
   "source": []
  },
  {
   "cell_type": "code",
   "execution_count": 76,
   "metadata": {},
   "outputs": [],
   "source": [
    "num_interval = 100\n",
    "path_list = [p1, p2, p3, p4, p5]\n",
    "num_paths = len(path_list)"
   ]
  },
  {
   "cell_type": "code",
   "execution_count": 77,
   "metadata": {},
   "outputs": [
    {
     "name": "stdout",
     "output_type": "stream",
     "text": [
      "Init simulation\n"
     ]
    }
   ],
   "source": [
    "mcdue = Multimode_DUE()"
   ]
  },
  {
   "cell_type": "code",
   "execution_count": 78,
   "metadata": {},
   "outputs": [],
   "source": [
    "mcdue.num_simulation_path = 4\n",
    "mcdue.num_assign_interval = num_interval\n",
    "mcdue.simulation_path_list = [0, 1, 2, 3]"
   ]
  },
  {
   "cell_type": "code",
   "execution_count": 79,
   "metadata": {},
   "outputs": [
    {
     "name": "stdout",
     "output_type": "stream",
     "text": [
      "driving route\n",
      "driving route\n",
      "park and ride route\n"
     ]
    },
    {
     "data": {
      "text/plain": [
       "(array([[0.8931231 , 0.50475542, 0.28551118, 0.66126754, 0.09285747,\n",
       "         0.26125859, 0.15250134, 0.47519616, 0.2730772 , 0.43813649,\n",
       "         0.92410653, 0.10276965, 0.17779759, 0.59778608, 0.80281787,\n",
       "         0.99845093, 0.0793874 , 0.35896397, 0.64572945, 0.98442713,\n",
       "         0.76938174, 0.47968491, 0.92509428, 0.3406183 , 0.68278708,\n",
       "         0.28881665, 0.13676748, 0.70977973, 0.31356856, 0.22354162,\n",
       "         0.2241553 , 0.56145298, 0.14467505, 0.70310654, 0.09865757,\n",
       "         0.70259457, 0.1018712 , 0.90556787, 0.33208169, 0.25035887,\n",
       "         0.00190799, 0.49232597, 0.74318139, 0.93522484, 0.96831422,\n",
       "         0.45078214, 0.47162309, 0.98954834, 0.89823852, 0.7719648 ,\n",
       "         0.31668399, 0.42485018, 0.38659821, 0.41642567, 0.39397644,\n",
       "         0.50124378, 0.53906867, 0.09935292, 0.35170263, 0.74636223,\n",
       "         0.42040339, 0.19450825, 0.19355516, 0.69194091, 0.69293419,\n",
       "         0.86196369, 0.06564493, 0.88074224, 0.76213871, 0.81406661,\n",
       "         0.27081251, 0.72376401, 0.59516424, 0.7596147 , 0.1335719 ,\n",
       "         0.55170863, 0.159176  , 0.07217677, 0.28919676, 0.05854603,\n",
       "         0.53939995, 0.19258722, 0.29340778, 0.67144956, 0.92565478,\n",
       "         0.64790939, 0.92982475, 0.92955962, 0.09859906, 0.88704213,\n",
       "         0.83538155, 0.02296874, 0.29883142, 0.37761762, 0.24278492,\n",
       "         0.58309333, 0.75408846, 0.06160485, 0.95186053, 0.10327806],\n",
       "        [0.93986154, 0.51364926, 0.69110026, 0.83709678, 0.31648565,\n",
       "         0.20652628, 0.33764018, 0.58846401, 0.11894022, 0.02876648,\n",
       "         0.01759371, 0.76286621, 0.12894121, 0.51922669, 0.96254179,\n",
       "         0.25384559, 0.87485518, 0.74179288, 0.83909334, 0.57203239,\n",
       "         0.44181139, 0.74656777, 0.12012573, 0.40305902, 0.79531826,\n",
       "         0.39279766, 0.38569061, 0.18099657, 0.57557972, 0.43827554,\n",
       "         0.52606784, 0.42780622, 0.29890785, 0.10135641, 0.4688082 ,\n",
       "         0.28002225, 0.81610527, 0.80193874, 0.31751932, 0.77517902,\n",
       "         0.60587433, 0.28791839, 0.32767616, 0.87826086, 0.78170027,\n",
       "         0.1019523 , 0.39830744, 0.10150045, 0.5886086 , 0.8637191 ,\n",
       "         0.53741182, 0.02182253, 0.25600913, 0.98257206, 0.68779513,\n",
       "         0.0738824 , 0.75838937, 0.84287066, 0.58045231, 0.6153287 ,\n",
       "         0.50986804, 0.21493103, 0.78006928, 0.03833728, 0.68008221,\n",
       "         0.39808229, 0.13992305, 0.46475177, 0.59302021, 0.84958361,\n",
       "         0.2355419 , 0.32441432, 0.80457813, 0.0056497 , 0.18222958,\n",
       "         0.52005088, 0.0457142 , 0.02750763, 0.25786082, 0.69254168,\n",
       "         0.00383494, 0.28512395, 0.10251181, 0.81021253, 0.87559451,\n",
       "         0.28341763, 0.64254541, 0.02468568, 0.81543803, 0.09699914,\n",
       "         0.59919842, 0.9348203 , 0.17052208, 0.83631057, 0.56113796,\n",
       "         0.30207207, 0.30229397, 0.40695413, 0.09769153, 0.42378593],\n",
       "        [0.        , 0.        , 0.        , 0.        , 0.        ,\n",
       "         0.        , 0.        , 0.        , 0.        , 0.        ,\n",
       "         0.        , 0.        , 0.        , 0.        , 0.        ,\n",
       "         0.        , 0.        , 0.        , 0.        , 0.        ,\n",
       "         0.        , 0.        , 0.        , 0.        , 0.        ,\n",
       "         0.        , 0.        , 0.        , 0.        , 0.        ,\n",
       "         0.        , 0.        , 0.        , 0.        , 0.        ,\n",
       "         0.        , 0.        , 0.        , 0.        , 0.        ,\n",
       "         0.        , 0.        , 0.        , 0.        , 0.        ,\n",
       "         0.        , 0.        , 0.        , 0.        , 0.        ,\n",
       "         0.        , 0.        , 0.        , 0.        , 0.        ,\n",
       "         0.        , 0.        , 0.        , 0.        , 0.        ,\n",
       "         0.        , 0.        , 0.        , 0.        , 0.        ,\n",
       "         0.        , 0.        , 0.        , 0.        , 0.        ,\n",
       "         0.        , 0.        , 0.        , 0.        , 0.        ,\n",
       "         0.        , 0.        , 0.        , 0.        , 0.        ,\n",
       "         0.        , 0.        , 0.        , 0.        , 0.        ,\n",
       "         0.        , 0.        , 0.        , 0.        , 0.        ,\n",
       "         0.        , 0.        , 0.        , 0.        , 0.        ,\n",
       "         0.        , 0.        , 0.        , 0.        , 0.        ],\n",
       "        [0.        , 0.        , 0.        , 0.        , 0.        ,\n",
       "         0.        , 0.        , 0.        , 0.        , 0.        ,\n",
       "         0.        , 0.        , 0.        , 0.        , 0.        ,\n",
       "         0.        , 0.        , 0.        , 0.        , 0.        ,\n",
       "         0.        , 0.        , 0.        , 0.        , 0.        ,\n",
       "         0.        , 0.        , 0.        , 0.        , 0.        ,\n",
       "         0.        , 0.        , 0.        , 0.        , 0.        ,\n",
       "         0.        , 0.        , 0.        , 0.        , 0.        ,\n",
       "         0.        , 0.        , 0.        , 0.        , 0.        ,\n",
       "         0.        , 0.        , 0.        , 0.        , 0.        ,\n",
       "         0.        , 0.        , 0.        , 0.        , 0.        ,\n",
       "         0.        , 0.        , 0.        , 0.        , 0.        ,\n",
       "         0.        , 0.        , 0.        , 0.        , 0.        ,\n",
       "         0.        , 0.        , 0.        , 0.        , 0.        ,\n",
       "         0.        , 0.        , 0.        , 0.        , 0.        ,\n",
       "         0.        , 0.        , 0.        , 0.        , 0.        ,\n",
       "         0.        , 0.        , 0.        , 0.        , 0.        ,\n",
       "         0.        , 0.        , 0.        , 0.        , 0.        ,\n",
       "         0.        , 0.        , 0.        , 0.        , 0.        ,\n",
       "         0.        , 0.        , 0.        , 0.        , 0.        ]]),\n",
       " array([[ 0.,  0.,  0.,  0.,  0.,  0.,  0.,  0.,  0.,  0.,  0.,  0.,  0.,\n",
       "          0.,  0.,  0.,  0.,  0.,  0.,  0.,  0.,  0.,  0.,  0.,  0.,  0.,\n",
       "          0.,  0.,  0.,  0.,  0.,  0.,  0.,  0.,  0.,  0.,  0.,  0.,  0.,\n",
       "          0.,  0.,  0.,  0.,  0.,  0.,  0.,  0.,  0.,  0.,  0.,  0.,  0.,\n",
       "          0.,  0.,  0.,  0.,  0.,  0.,  0.,  0.,  0.,  0.,  0.,  0.,  0.,\n",
       "          0.,  0.,  0.,  0.,  0.,  0.,  0.,  0.,  0.,  0.,  0.,  0.,  0.,\n",
       "          0.,  0.,  0.,  0.,  0.,  0.,  0.,  0.,  0.,  0.,  0.,  0.,  0.,\n",
       "          0.,  0.,  0.,  0.,  0.,  0.,  0.,  0.,  0.],\n",
       "        [ 0.,  0.,  0.,  0.,  0.,  0.,  0.,  0.,  0.,  0.,  0.,  0.,  0.,\n",
       "          0.,  0.,  0.,  0.,  0.,  0.,  0.,  0.,  0.,  0.,  0.,  0.,  0.,\n",
       "          0.,  0.,  0.,  0.,  0.,  0.,  0.,  0.,  0.,  0.,  0.,  0.,  0.,\n",
       "          0.,  0.,  0.,  0.,  0.,  0.,  0.,  0.,  0.,  0.,  0.,  0.,  0.,\n",
       "          0.,  0.,  0.,  0.,  0.,  0.,  0.,  0.,  0.,  0.,  0.,  0.,  0.,\n",
       "          0.,  0.,  0.,  0.,  0.,  0.,  0.,  0.,  0.,  0.,  0.,  0.,  0.,\n",
       "          0.,  0.,  0.,  0.,  0.,  0.,  0.,  0.,  0.,  0.,  0.,  0.,  0.,\n",
       "          0.,  0.,  0.,  0.,  0.,  0.,  0.,  0.,  0.],\n",
       "        [10., 10., 10., 10., 10., 10., 10., 10., 10., 10., 10., 10., 10.,\n",
       "         10., 10., 10., 10., 10., 10., 10., 10., 10., 10., 10., 10., 10.,\n",
       "         10., 10., 10., 10., 10., 10., 10., 10., 10., 10., 10., 10., 10.,\n",
       "         10., 10., 10., 10., 10., 10., 10., 10., 10., 10., 10., 10., 10.,\n",
       "         10., 10., 10., 10., 10., 10., 10., 10., 10., 10., 10., 10., 10.,\n",
       "         10., 10., 10., 10., 10., 10., 10., 10., 10., 10., 10., 10., 10.,\n",
       "         10., 10., 10., 10., 10., 10., 10., 10., 10., 10., 10., 10., 10.,\n",
       "         10., 10., 10., 10., 10., 10., 10., 10., 10.],\n",
       "        [ 0.,  0.,  0.,  0.,  0.,  0.,  0.,  0.,  0.,  0.,  0.,  0.,  0.,\n",
       "          0.,  0.,  0.,  0.,  0.,  0.,  0.,  0.,  0.,  0.,  0.,  0.,  0.,\n",
       "          0.,  0.,  0.,  0.,  0.,  0.,  0.,  0.,  0.,  0.,  0.,  0.,  0.,\n",
       "          0.,  0.,  0.,  0.,  0.,  0.,  0.,  0.,  0.,  0.,  0.,  0.,  0.,\n",
       "          0.,  0.,  0.,  0.,  0.,  0.,  0.,  0.,  0.,  0.,  0.,  0.,  0.,\n",
       "          0.,  0.,  0.,  0.,  0.,  0.,  0.,  0.,  0.,  0.,  0.,  0.,  0.,\n",
       "          0.,  0.,  0.,  0.,  0.,  0.,  0.,  0.,  0.,  0.,  0.,  0.,  0.,\n",
       "          0.,  0.,  0.,  0.,  0.,  0.,  0.,  0.,  0.]]))"
      ]
     },
     "execution_count": 79,
     "metadata": {},
     "output_type": "execute_result"
    }
   ],
   "source": [
    "mcdue.form_demand_for_simulation(path_list, np.random.rand(num_paths, num_interval))"
   ]
  },
  {
   "cell_type": "code",
   "execution_count": null,
   "metadata": {},
   "outputs": [],
   "source": []
  }
 ],
 "metadata": {
  "kernelspec": {
   "display_name": "Python 2",
   "language": "python",
   "name": "python2"
  },
  "language_info": {
   "codemirror_mode": {
    "name": "ipython",
    "version": 2
   },
   "file_extension": ".py",
   "mimetype": "text/x-python",
   "name": "python",
   "nbconvert_exporter": "python",
   "pygments_lexer": "ipython2",
   "version": "2.7.10"
  }
 },
 "nbformat": 4,
 "nbformat_minor": 2
}
