{
 "cells": [
  {
   "cell_type": "code",
   "execution_count": 62,
   "metadata": {},
   "outputs": [
    {
     "name": "stdout",
     "output_type": "stream",
     "text": [
      "The autoreload extension is already loaded. To reload it, use:\n",
      "  %reload_ext autoreload\n"
     ]
    }
   ],
   "source": [
    "%load_ext autoreload\n",
    "%autoreload 2"
   ]
  },
  {
   "cell_type": "code",
   "execution_count": 63,
   "metadata": {},
   "outputs": [],
   "source": [
    "import os\n",
    "import numpy as np\n",
    "import sys"
   ]
  },
  {
   "cell_type": "code",
   "execution_count": 64,
   "metadata": {},
   "outputs": [],
   "source": [
    "sys.path.append(\"/home/lemma/Documents/MAC-POSTS/side_project/network_builder\")"
   ]
  },
  {
   "cell_type": "code",
   "execution_count": 65,
   "metadata": {},
   "outputs": [],
   "source": [
    "from models import *\n",
    "import MNMAPI\n",
    "from MNM_mcnb import *"
   ]
  },
  {
   "cell_type": "code",
   "execution_count": 66,
   "metadata": {},
   "outputs": [],
   "source": [
    "target_time = 3600\n",
    "early_penalty = 0.7\n",
    "late_penalty = 10"
   ]
  },
  {
   "cell_type": "code",
   "execution_count": 67,
   "metadata": {},
   "outputs": [],
   "source": [
    "s = driving_route(target_time, early_penalty, late_penalty, [0,0,0], [1, 2, 4], 1, 3, 120)"
   ]
  },
  {
   "cell_type": "code",
   "execution_count": 90,
   "metadata": {},
   "outputs": [
    {
     "name": "stdout",
     "output_type": "stream",
     "text": [
      "Creating route for: single_drive\n"
     ]
    }
   ],
   "source": [
    "single_driving_config = dict()\n",
    "single_driving_config['mode'] = 'single_drive'\n",
    "single_driving_config['target_time'] = target_time\n",
    "single_driving_config['early_penalty'] = early_penalty\n",
    "single_driving_config['late_penalty'] = late_penalty\n",
    "single_driving_config['ID_list'] = [0, 0, 0]\n",
    "single_driving_config['O'] = 0\n",
    "single_driving_config['D'] = 1\n",
    "single_driving_config['link_list'] = [link(), link(), link()]\n",
    "single_driving_config['path_ID'] = 0\n",
    "single_driving_config['number_people'] = 1\n",
    "single_driving_config['parking_lot'] = parking_lot(5)\n",
    "single_driving_config['walking_time'] = 3\n",
    "p = make_path(single_driving_config)"
   ]
  },
  {
   "cell_type": "code",
   "execution_count": 93,
   "metadata": {},
   "outputs": [
    {
     "name": "stdout",
     "output_type": "stream",
     "text": [
      "Creating route for: multiple_drive\n"
     ]
    }
   ],
   "source": [
    "multiple_driving_config = dict()\n",
    "multiple_driving_config['mode'] = 'multiple_drive'\n",
    "multiple_driving_config['target_time'] = target_time\n",
    "multiple_driving_config['early_penalty'] = early_penalty\n",
    "multiple_driving_config['late_penalty'] = late_penalty\n",
    "multiple_driving_config['ID_list'] = [0, 0, 0]\n",
    "multiple_driving_config['O'] = 0\n",
    "multiple_driving_config['D'] = 1\n",
    "multiple_driving_config['link_list'] = [link(), link(), link()]\n",
    "multiple_driving_config['path_ID'] = 0\n",
    "multiple_driving_config['number_people'] = 2\n",
    "multiple_driving_config['parking_lot'] = parking_lot(5)\n",
    "multiple_driving_config['walking_time'] = 3\n",
    "p = make_path(multiple_driving_config)"
   ]
  },
  {
   "cell_type": "code",
   "execution_count": 70,
   "metadata": {},
   "outputs": [],
   "source": [
    "a = MNMAPI.mcdta_api()"
   ]
  },
  {
   "cell_type": "markdown",
   "metadata": {},
   "source": [
    "## Test NB"
   ]
  },
  {
   "cell_type": "code",
   "execution_count": 126,
   "metadata": {},
   "outputs": [],
   "source": [
    "data_folder = '../data/input_files_small_multiclass'"
   ]
  },
  {
   "cell_type": "code",
   "execution_count": 127,
   "metadata": {},
   "outputs": [
    {
     "name": "stdout",
     "output_type": "stream",
     "text": [
      "MNM_config\n",
      "MNM_pathtable\n"
     ]
    }
   ],
   "source": [
    "nb = MNM_network_builder()"
   ]
  },
  {
   "cell_type": "code",
   "execution_count": 128,
   "metadata": {},
   "outputs": [
    {
     "name": "stdout",
     "output_type": "stream",
     "text": [
      "No demand input\n",
      "No route choice portition for path table\n"
     ]
    }
   ],
   "source": [
    "nb.load_from_folder(data_folder)"
   ]
  },
  {
   "cell_type": "code",
   "execution_count": 129,
   "metadata": {},
   "outputs": [],
   "source": [
    "num_assign_intervals = nb.config.config_dict['DTA']['max_interval']"
   ]
  },
  {
   "cell_type": "code",
   "execution_count": 130,
   "metadata": {},
   "outputs": [],
   "source": [
    "demand_dict = dict()\n",
    "demand_dict[1] = dict()\n",
    "demand_dict[2] = dict()\n",
    "demand_dict[3] = dict()\n",
    "demand_dict[4] = dict()\n",
    "demand_dict[5] = dict()\n",
    "demand_dict[1][1] = [np.ones(num_assign_intervals) * 10, np.zeros(num_assign_intervals)]\n",
    "demand_dict[2][1] = [np.zeros(num_assign_intervals), np.ones(num_assign_intervals) * 1]\n",
    "demand_dict[3][1] = [np.ones(num_assign_intervals) * 10, np.zeros(num_assign_intervals)]\n",
    "demand_dict[4][1] = [np.ones(num_assign_intervals) * 10, np.zeros(num_assign_intervals)]\n",
    "demand_dict[5][1] = [np.zeros(num_assign_intervals), np.ones(num_assign_intervals) * 10]\n",
    "demand_dict[1][2] = [np.ones(num_assign_intervals) * 10, np.zeros(num_assign_intervals)]\n",
    "demand_dict[1][3] = [np.ones(num_assign_intervals) * 10, np.zeros(num_assign_intervals)]\n",
    "demand_dict[3][2] = [np.ones(num_assign_intervals) * 10, np.zeros(num_assign_intervals)]\n",
    "demand_dict[4][3] = [np.ones(num_assign_intervals) * 10, np.zeros(num_assign_intervals)]"
   ]
  },
  {
   "cell_type": "code",
   "execution_count": 131,
   "metadata": {},
   "outputs": [],
   "source": [
    "choice_dict = dict()\n",
    "choice_dict = dict()\n",
    "choice_dict[1] = dict()\n",
    "choice_dict[2] = dict()\n",
    "choice_dict[3] = dict()\n",
    "choice_dict[4] = dict()\n",
    "choice_dict[5] = dict()\n",
    "choice_dict[1][1] = 0\n",
    "choice_dict[2][1] = 1\n",
    "choice_dict[3][1] = 0\n",
    "choice_dict[4][1] = 0\n",
    "choice_dict[5][1] = 1\n",
    "choice_dict[1][2] = 0\n",
    "choice_dict[1][3] = 0\n",
    "choice_dict[3][2] = 0\n",
    "choice_dict[4][3] = 0"
   ]
  },
  {
   "cell_type": "code",
   "execution_count": 132,
   "metadata": {},
   "outputs": [
    {
     "data": {
      "text/plain": [
       "OrderedDict([(0, MNM_path, path ID 0, O node: 101, D node 105),\n",
       "             (1, MNM_path, path ID 1, O node: 101, D node 105),\n",
       "             (2, MNM_path, path ID 2, O node: 102, D node 105),\n",
       "             (3, MNM_path, path ID 3, O node: 103, D node 105),\n",
       "             (4, MNM_path, path ID 4, O node: 103, D node 105),\n",
       "             (5, MNM_path, path ID 5, O node: 104, D node 105),\n",
       "             (6, MNM_path, path ID 6, O node: 104, D node 105),\n",
       "             (7, MNM_path, path ID 7, O node: 108, D node 105),\n",
       "             (8, MNM_path, path ID 8, O node: 101, D node 106),\n",
       "             (9, MNM_path, path ID 9, O node: 101, D node 106),\n",
       "             (10, MNM_path, path ID 10, O node: 101, D node 107),\n",
       "             (11, MNM_path, path ID 11, O node: 101, D node 107),\n",
       "             (12, MNM_path, path ID 12, O node: 103, D node 106),\n",
       "             (13, MNM_path, path ID 13, O node: 104, D node 107)])"
      ]
     },
     "execution_count": 132,
     "metadata": {},
     "output_type": "execute_result"
    }
   ],
   "source": [
    "nb.path_table.ID2path"
   ]
  },
  {
   "cell_type": "code",
   "execution_count": 133,
   "metadata": {},
   "outputs": [],
   "source": [
    "def get_uniform_mcflow(demand_dict, path_dict, ID2path, MNM_od, num_assign_intervals):\n",
    "    f_car = np.ones((len(ID2path), num_assign_intervals))\n",
    "    f_truck = np.ones((len(ID2path), num_assign_intervals))\n",
    "    for O_node in path_dict.keys():\n",
    "        O = MNM_od.O_dict.inv[O_node]\n",
    "        for D_node in path_dict[O_node].keys():\n",
    "            D = MNM_od.D_dict.inv[D_node]\n",
    "            path_list = path_dict[O_node][D_node].path_list\n",
    "            num_path = len(path_list)\n",
    "            for path in path_list:\n",
    "                idx = ID2path.keys().index(path.path_ID)\n",
    "                f_car[idx, :] = demand_dict[O][D][0] / np.float(num_path)\n",
    "                f_truck[idx, :] = demand_dict[O][D][1] / np.float(num_path)\n",
    "    return f_car.flatten(order = \"F\"), f_truck.flatten(order = \"F\")"
   ]
  },
  {
   "cell_type": "code",
   "execution_count": 134,
   "metadata": {},
   "outputs": [],
   "source": [
    "f_car, f_truck = get_uniform_mcflow(demand_dict, nb.path_table.path_dict, nb.path_table.ID2path, nb.od, num_assign_intervals)"
   ]
  },
  {
   "cell_type": "code",
   "execution_count": 135,
   "metadata": {},
   "outputs": [],
   "source": [
    "nb.update_demand_path(f_car, f_truck, choice_dict)"
   ]
  },
  {
   "cell_type": "code",
   "execution_count": 136,
   "metadata": {},
   "outputs": [],
   "source": [
    "nb.dump_to_folder(\"test\")"
   ]
  },
  {
   "cell_type": "code",
   "execution_count": null,
   "metadata": {},
   "outputs": [],
   "source": []
  }
 ],
 "metadata": {
  "kernelspec": {
   "display_name": "Python 2",
   "language": "python",
   "name": "python2"
  },
  "language_info": {
   "codemirror_mode": {
    "name": "ipython",
    "version": 2
   },
   "file_extension": ".py",
   "mimetype": "text/x-python",
   "name": "python",
   "nbconvert_exporter": "python",
   "pygments_lexer": "ipython2",
   "version": "2.7.10"
  }
 },
 "nbformat": 4,
 "nbformat_minor": 2
}
