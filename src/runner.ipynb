{
 "cells": [
  {
   "cell_type": "code",
   "execution_count": 1,
   "metadata": {},
   "outputs": [],
   "source": [
    "%load_ext autoreload\n",
    "%autoreload 2"
   ]
  },
  {
   "cell_type": "code",
   "execution_count": 2,
   "metadata": {},
   "outputs": [],
   "source": [
    "import os\n",
    "import numpy as np\n",
    "import sys\n",
    "import pickle\n",
    "import time\n",
    "sys.path.append(\"/home/lemma/Documents/MAC-POSTS/side_project/network_builder\")\n",
    "import matplotlib.pyplot as plt\n",
    "plt.style.use('seaborn-poster')\n",
    "from matplotlib import colors\n",
    "import matplotlib\n",
    "import six\n",
    "import matplotlib.dates as mdates\n",
    "import datetime"
   ]
  },
  {
   "cell_type": "code",
   "execution_count": 3,
   "metadata": {},
   "outputs": [],
   "source": [
    "from models import *\n",
    "import MNMAPI\n",
    "from MNM_mcnb import *"
   ]
  },
  {
   "cell_type": "code",
   "execution_count": 4,
   "metadata": {},
   "outputs": [
    {
     "name": "stdout",
     "output_type": "stream",
     "text": [
      "Creating route for: single_drive\n",
      "Creating route for: single_drive\n",
      "Creating route for: multiple_drive\n",
      "Creating route for: metro\n",
      "Creating route for: pnr\n",
      "Creating route for: pnr\n",
      "Creating route for: pnr\n",
      "Creating route for: pnr\n",
      "Creating route for: single_drive\n",
      "Creating route for: single_drive\n",
      "Creating route for: multiple_drive\n",
      "Creating route for: transit\n",
      "Creating route for: pnr\n",
      "Creating route for: single_drive\n",
      "Creating route for: single_drive\n",
      "Creating route for: multiple_drive\n",
      "Creating route for: pnr\n"
     ]
    }
   ],
   "source": [
    "from exp_config import *"
   ]
  },
  {
   "cell_type": "code",
   "execution_count": 5,
   "metadata": {},
   "outputs": [],
   "source": [
    "data_folder = '../data/input_files_small_multiclass'\n",
    "nb = MNM_network_builder()\n",
    "nb.load_from_folder(data_folder)"
   ]
  },
  {
   "cell_type": "code",
   "execution_count": 6,
   "metadata": {},
   "outputs": [
    {
     "name": "stdout",
     "output_type": "stream",
     "text": [
      "Init simulation\n"
     ]
    }
   ],
   "source": [
    "mcdue = Multimode_DUE(nb)"
   ]
  },
  {
   "cell_type": "code",
   "execution_count": 7,
   "metadata": {},
   "outputs": [],
   "source": [
    "init_path_matrix = mcdue.init_path_matrix(path_list, demand_dict)"
   ]
  },
  {
   "cell_type": "code",
   "execution_count": 8,
   "metadata": {},
   "outputs": [
    {
     "name": "stdout",
     "output_type": "stream",
     "text": [
      "0 3.7181640072652837\n",
      "1 3.0879786305026746\n",
      "2 2.7805774228634976\n",
      "3 2.5781997536045447\n",
      "4 2.415493126590857\n",
      "5 2.2758537755120614\n",
      "6 2.1678279019702877\n",
      "7 2.054191300039324\n",
      "8 1.9722843025022962\n",
      "9 1.8866046996605297\n",
      "10 1.8836407231611239\n",
      "11 1.8139919651568683\n",
      "12 1.7535698294121937\n",
      "13 1.6955686633955938\n",
      "14 1.653609087566723\n",
      "15 1.595126940901562\n",
      "16 1.5487897361430396\n",
      "17 1.5075696906957758\n",
      "18 1.4760051203764535\n",
      "19 1.4435403998752583\n",
      "20 1.4149266601611947\n",
      "21 1.377924617412651\n",
      "22 1.3492333868432669\n",
      "23 1.3224336996655779\n",
      "24 1.2945202728939074\n",
      "25 1.2715934710521244\n",
      "26 1.2413817872008188\n",
      "27 1.2185919589452319\n",
      "28 1.1966932240383454\n",
      "29 1.1824647172331577\n",
      "30 1.1584848608293281\n",
      "31 1.138131001816524\n",
      "32 1.1213210111642744\n",
      "33 1.1032771932017944\n",
      "34 1.0866306801061263\n",
      "35 1.0607730163831661\n",
      "36 1.0539051942719646\n",
      "37 1.0329191925282113\n",
      "38 1.0638069070000455\n",
      "39 1.0038735900373388\n",
      "40 1.0317055589030757\n",
      "41 1.0202709789909516\n",
      "42 1.0035564928166911\n",
      "43 0.9905011956227001\n",
      "44 0.9776421759751545\n",
      "45 0.963631633757137\n",
      "46 0.9560894492210253\n",
      "47 0.941501596899936\n",
      "48 0.929504251723205\n",
      "49 0.9222015418197906\n",
      "50 0.9148354320299683\n",
      "51 0.904207155036057\n",
      "52 0.8905844309448664\n",
      "53 0.8809701215298985\n",
      "54 0.872415094981489\n",
      "55 0.864157456056438\n",
      "56 0.8499550063104349\n",
      "57 0.8433630407470185\n",
      "58 0.835543846271546\n",
      "59 0.8246403450837895\n",
      "60 0.8201145867134942\n",
      "61 0.8141688158703069\n",
      "62 0.8085924881400413\n",
      "63 0.801084826428248\n",
      "64 0.797798081592169\n",
      "65 0.7899592053719597\n",
      "66 0.7825943581203021\n",
      "67 0.7762019525530566\n",
      "68 0.7695437430370929\n",
      "69 0.766397784368851\n",
      "70 0.7661490781104877\n",
      "71 0.7556750110262109\n",
      "72 0.7588384541004917\n",
      "73 0.7488979970369891\n",
      "74 0.7429922380259046\n",
      "75 0.7428675443267402\n",
      "76 0.7343813871184572\n",
      "77 0.7376549120256899\n",
      "78 0.7246627244240169\n",
      "79 0.721284701266046\n",
      "80 0.7194582989084289\n",
      "81 0.7101796004015598\n",
      "82 0.7146868512991718\n",
      "83 0.7134322297244667\n",
      "84 0.7045580535399409\n",
      "85 0.6969050588771637\n",
      "86 0.6958130516510725\n",
      "87 0.6983006307441074\n",
      "88 0.6813550877858663\n",
      "89 0.6890864155069377\n",
      "90 0.6821800675214702\n",
      "91 0.6749072338025175\n",
      "92 0.6741272828689097\n",
      "93 0.6665751455946358\n",
      "94 0.6639367094279941\n",
      "95 0.6652286499626688\n",
      "96 0.664382469944581\n",
      "97 0.6491348790090837\n",
      "98 0.648665403930964\n",
      "99 0.6492092771367538\n"
     ]
    }
   ],
   "source": [
    "path_matrix2, d2, gap_rec2 = mcdue.solve(init_path_matrix, path_list, demand_dict, ab_dict, \n",
    "                             choice_dict, num_iters = 100, gd_method = 'GP', name = \"time\")"
   ]
  },
  {
   "cell_type": "code",
   "execution_count": null,
   "metadata": {},
   "outputs": [],
   "source": []
  }
 ],
 "metadata": {
  "kernelspec": {
   "display_name": "Python 2",
   "language": "python",
   "name": "python2"
  },
  "language_info": {
   "codemirror_mode": {
    "name": "ipython",
    "version": 2
   },
   "file_extension": ".py",
   "mimetype": "text/x-python",
   "name": "python",
   "nbconvert_exporter": "python",
   "pygments_lexer": "ipython2",
   "version": "2.7.10"
  }
 },
 "nbformat": 4,
 "nbformat_minor": 2
}
