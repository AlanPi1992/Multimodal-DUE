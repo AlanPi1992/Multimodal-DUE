{
 "cells": [
  {
   "cell_type": "code",
   "execution_count": 1,
   "metadata": {},
   "outputs": [],
   "source": [
    "%load_ext autoreload\n",
    "%autoreload 2"
   ]
  },
  {
   "cell_type": "code",
   "execution_count": 2,
   "metadata": {},
   "outputs": [],
   "source": [
    "import os\n",
    "import numpy as np\n",
    "import sys\n",
    "import pickle\n",
    "import time\n",
    "sys.path.append(\"/home/lemma/Documents/MAC-POSTS/side_project/network_builder\")\n",
    "import matplotlib.pyplot as plt\n",
    "plt.style.use('seaborn-poster')\n",
    "from matplotlib import colors\n",
    "import matplotlib\n",
    "import six\n",
    "import matplotlib.dates as mdates\n",
    "import datetime"
   ]
  },
  {
   "cell_type": "code",
   "execution_count": 3,
   "metadata": {},
   "outputs": [],
   "source": [
    "from models import *\n",
    "import MNMAPI\n",
    "from MNM_mcnb import *"
   ]
  },
  {
   "cell_type": "code",
   "execution_count": 4,
   "metadata": {},
   "outputs": [
    {
     "name": "stdout",
     "output_type": "stream",
     "text": [
      "Creating route for: single_drive\n",
      "Creating route for: single_drive\n",
      "Creating route for: multiple_drive\n",
      "Creating route for: metro\n",
      "Creating route for: pnr\n",
      "Creating route for: pnr\n",
      "Creating route for: pnr\n",
      "Creating route for: pnr\n",
      "Creating route for: single_drive\n",
      "Creating route for: single_drive\n",
      "Creating route for: multiple_drive\n",
      "Creating route for: transit\n",
      "Creating route for: pnr\n",
      "Creating route for: single_drive\n",
      "Creating route for: single_drive\n",
      "Creating route for: multiple_drive\n",
      "Creating route for: pnr\n"
     ]
    }
   ],
   "source": [
    "from exp_config import *"
   ]
  },
  {
   "cell_type": "code",
   "execution_count": 5,
   "metadata": {},
   "outputs": [],
   "source": [
    "data_folder = '../data/input_files_small_multiclass'\n",
    "nb = MNM_network_builder()\n",
    "nb.load_from_folder(data_folder)"
   ]
  },
  {
   "cell_type": "code",
   "execution_count": 6,
   "metadata": {},
   "outputs": [
    {
     "name": "stdout",
     "output_type": "stream",
     "text": [
      "Init simulation\n"
     ]
    }
   ],
   "source": [
    "mcdue = Multimode_DUE(nb)"
   ]
  },
  {
   "cell_type": "code",
   "execution_count": 7,
   "metadata": {},
   "outputs": [],
   "source": [
    "init_path_matrix = mcdue.init_path_matrix(path_list, demand_dict)"
   ]
  },
  {
   "cell_type": "code",
   "execution_count": 8,
   "metadata": {},
   "outputs": [
    {
     "name": "stdout",
     "output_type": "stream",
     "text": [
      "0 3.021448176832654\n",
      "1 1.8940619134564025\n",
      "2 1.5149539526366234\n",
      "3 1.2268097080409335\n",
      "4 1.103613921907554\n",
      "5 0.9744649110804953\n",
      "6 0.8717290989096645\n",
      "7 0.7911599374624518\n",
      "8 0.7088599704527309\n",
      "9 0.650609441540069\n",
      "10 0.5938110428841556\n",
      "11 0.5508433779125359\n",
      "12 0.4938202645309125\n",
      "13 0.48254057050538807\n",
      "14 0.44269560647280526\n",
      "15 0.4133208524768783\n",
      "16 0.3847657097183076\n",
      "17 0.359666887325357\n",
      "18 0.3397047738558345\n",
      "19 0.3261480293603557\n",
      "20 0.2963287120613424\n",
      "21 0.28205075330595936\n",
      "22 0.25664842091460327\n",
      "23 0.25049610947364354\n",
      "24 0.24633614474911136\n",
      "25 0.23234678070308637\n",
      "26 0.21382313325643112\n",
      "27 0.20852431784550476\n",
      "28 0.20075616762713996\n",
      "29 0.19051889844228018\n",
      "30 0.18228084920308427\n",
      "31 0.1672458704234693\n",
      "32 0.16331034745058873\n",
      "33 0.16760842726104536\n",
      "34 0.16052282886319458\n",
      "35 0.15553916633060397\n",
      "36 0.1500522066831416\n",
      "37 0.14072867073647263\n",
      "38 0.135425412936624\n",
      "39 0.13405076641110616\n",
      "40 0.13061391344391518\n",
      "41 0.13095750386954283\n",
      "42 0.12267278874571061\n",
      "43 0.11810817492167992\n",
      "44 0.11816309591136191\n",
      "45 0.11684242589959522\n",
      "46 0.1075739814849592\n",
      "47 0.1016640767507946\n",
      "48 0.10083829024310506\n",
      "49 0.09852504391644902\n",
      "50 0.09879519621009478\n",
      "51 0.09184825659583971\n",
      "52 0.09009232330449411\n",
      "53 0.08803209743981548\n",
      "54 0.08745710112028296\n",
      "55 0.08498478691419709\n",
      "56 0.08151270117188202\n",
      "57 0.0800585681810142\n",
      "58 0.08372544687913425\n",
      "59 0.08221357513017005\n",
      "60 0.08641572178467538\n",
      "61 0.07874875397972832\n",
      "62 0.08144456845526697\n",
      "63 0.07748218602412196\n",
      "64 0.07560937998661038\n",
      "65 0.07529223311266742\n",
      "66 0.07531207156057378\n",
      "67 0.06915587615443107\n",
      "68 0.06665521811016237\n",
      "69 0.06772381183206558\n",
      "70 0.06547702548293126\n",
      "71 0.0636478924416374\n",
      "72 0.06749853642075705\n",
      "73 0.06813151959182431\n",
      "74 0.06774722305965425\n",
      "75 0.06733009818921348\n",
      "76 0.0683879468080151\n",
      "77 0.06566525393694132\n",
      "78 0.06272140096612047\n",
      "79 0.06214215736642675\n",
      "80 0.06350813724945353\n",
      "81 0.05819677512967456\n",
      "82 0.05885083422633126\n",
      "83 0.059418384021617816\n",
      "84 0.060617943915434486\n",
      "85 0.05471414789083865\n",
      "86 0.05768994965178291\n",
      "87 0.05838125896263199\n",
      "88 0.054370200699602994\n",
      "89 0.049146824567427645\n",
      "90 0.05033323140151786\n",
      "91 0.0506625467470907\n",
      "92 0.04918429874340865\n",
      "93 0.04619740090829506\n",
      "94 0.04611754204345229\n",
      "95 0.05026313327503423\n",
      "96 0.050272987345280386\n",
      "97 0.05089512722703809\n",
      "98 0.047526949021623105\n",
      "99 0.04654087084178978\n"
     ]
    }
   ],
   "source": [
    "path_matrix2, d2, gap_rec2 = mcdue.solve(init_path_matrix, path_list, demand_dict, ab_dict, \n",
    "                             choice_dict, num_iters = 100, gd_method = 'MSA', name = \"trans5pnr5pool5\")"
   ]
  },
  {
   "cell_type": "code",
   "execution_count": null,
   "metadata": {},
   "outputs": [],
   "source": []
  }
 ],
 "metadata": {
  "kernelspec": {
   "display_name": "Python 2",
   "language": "python",
   "name": "python2"
  },
  "language_info": {
   "codemirror_mode": {
    "name": "ipython",
    "version": 2
   },
   "file_extension": ".py",
   "mimetype": "text/x-python",
   "name": "python",
   "nbconvert_exporter": "python",
   "pygments_lexer": "ipython2",
   "version": "2.7.10"
  }
 },
 "nbformat": 4,
 "nbformat_minor": 2
}
