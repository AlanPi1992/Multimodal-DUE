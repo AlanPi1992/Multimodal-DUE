{
 "cells": [
  {
   "cell_type": "code",
   "execution_count": 1,
   "metadata": {},
   "outputs": [],
   "source": [
    "%load_ext autoreload\n",
    "%autoreload 2"
   ]
  },
  {
   "cell_type": "code",
   "execution_count": 2,
   "metadata": {},
   "outputs": [],
   "source": [
    "import os\n",
    "import numpy as np\n",
    "import sys\n",
    "import pickle\n",
    "import time\n",
    "sys.path.append(\"/home/lemma/Documents/MAC-POSTS/side_project/network_builder\")\n",
    "import matplotlib.pyplot as plt\n",
    "plt.style.use('seaborn-poster')\n",
    "from matplotlib import colors\n",
    "import matplotlib\n",
    "import six\n",
    "import matplotlib.dates as mdates\n",
    "import datetime"
   ]
  },
  {
   "cell_type": "code",
   "execution_count": 3,
   "metadata": {},
   "outputs": [],
   "source": [
    "from models import *\n",
    "import MNMAPI\n",
    "from MNM_mcnb import *"
   ]
  },
  {
   "cell_type": "code",
   "execution_count": 4,
   "metadata": {},
   "outputs": [
    {
     "name": "stdout",
     "output_type": "stream",
     "text": [
      "Creating route for: single_drive\n",
      "Creating route for: single_drive\n",
      "Creating route for: multiple_drive\n",
      "Creating route for: metro\n",
      "Creating route for: pnr\n",
      "Creating route for: pnr\n",
      "Creating route for: pnr\n",
      "Creating route for: pnr\n",
      "Creating route for: single_drive\n",
      "Creating route for: single_drive\n",
      "Creating route for: multiple_drive\n",
      "Creating route for: transit\n",
      "Creating route for: pnr\n",
      "Creating route for: single_drive\n",
      "Creating route for: single_drive\n",
      "Creating route for: multiple_drive\n",
      "Creating route for: pnr\n"
     ]
    }
   ],
   "source": [
    "from exp_config import *"
   ]
  },
  {
   "cell_type": "code",
   "execution_count": 5,
   "metadata": {},
   "outputs": [],
   "source": [
    "data_folder = '../data/input_files_small_multiclass'\n",
    "nb = MNM_network_builder()\n",
    "nb.load_from_folder(data_folder)"
   ]
  },
  {
   "cell_type": "code",
   "execution_count": 6,
   "metadata": {},
   "outputs": [
    {
     "name": "stdout",
     "output_type": "stream",
     "text": [
      "Init simulation\n"
     ]
    }
   ],
   "source": [
    "mcdue = Multimode_DUE(nb)"
   ]
  },
  {
   "cell_type": "code",
   "execution_count": 7,
   "metadata": {},
   "outputs": [],
   "source": [
    "init_path_matrix = mcdue.init_path_matrix(path_list, demand_dict)"
   ]
  },
  {
   "cell_type": "code",
   "execution_count": 8,
   "metadata": {},
   "outputs": [
    {
     "name": "stdout",
     "output_type": "stream",
     "text": [
      "0 5.5509202848376695\n",
      "1 4.280540024738077\n",
      "2 3.2242959706817556\n",
      "3 2.8060486052101927\n",
      "4 2.3745653301249643\n",
      "5 2.154287195988801\n",
      "6 1.8759928481637766\n",
      "7 1.7421038361869532\n",
      "8 1.5434782879519748\n",
      "9 1.4530487354570132\n",
      "10 1.296192968693775\n",
      "11 1.2347094004053956\n",
      "12 1.1101970635342782\n",
      "13 1.0655198078053054\n",
      "14 0.9637494462376455\n",
      "15 0.9284535145065237\n",
      "16 0.8447053545379717\n",
      "17 0.8151256578370456\n",
      "18 0.7471587782203054\n",
      "19 0.7205927509187879\n",
      "20 0.6643274688313502\n",
      "21 0.6413003949622921\n",
      "22 0.5942246819982542\n",
      "23 0.5742080627008459\n",
      "24 0.5341707376296536\n",
      "25 0.5157729208879445\n",
      "26 0.48186026778881763\n",
      "27 0.46665891443800445\n",
      "28 0.4389338469327412\n",
      "29 0.4227376808762753\n",
      "30 0.3987295015317347\n",
      "31 0.38436180007497545\n",
      "32 0.36351910520890196\n",
      "33 0.3501836323417208\n",
      "34 0.33293945043062545\n",
      "35 0.31960688886545957\n",
      "36 0.3057491883398574\n",
      "37 0.292095605545604\n",
      "38 0.2806251513105806\n",
      "39 0.26804303390908035\n",
      "40 0.25910952360514894\n",
      "41 0.2470883220525121\n",
      "42 0.23938093933849738\n",
      "43 0.22729364322383871\n",
      "44 0.22121857017133198\n",
      "45 0.20962185981429113\n",
      "46 0.20575384422503212\n",
      "47 0.1952403179420845\n",
      "48 0.19195996019747066\n",
      "49 0.18128457159028527\n"
     ]
    }
   ],
   "source": [
    "path_matrix2, d2, gap_rec2 = mcdue.solve(init_path_matrix, path_list, demand_dict, ab_dict, \n",
    "                             choice_dict, num_iters = 50, gd_method = 'MSA', name = \"2bus5\")"
   ]
  }
 ],
 "metadata": {
  "kernelspec": {
   "display_name": "Python 2",
   "language": "python",
   "name": "python2"
  },
  "language_info": {
   "codemirror_mode": {
    "name": "ipython",
    "version": 2
   },
   "file_extension": ".py",
   "mimetype": "text/x-python",
   "name": "python",
   "nbconvert_exporter": "python",
   "pygments_lexer": "ipython2",
   "version": "2.7.10"
  }
 },
 "nbformat": 4,
 "nbformat_minor": 2
}
