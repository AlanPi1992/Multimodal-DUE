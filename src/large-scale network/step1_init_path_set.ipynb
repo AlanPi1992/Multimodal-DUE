{
 "cells": [
  {
   "cell_type": "code",
   "execution_count": 1,
   "metadata": {},
   "outputs": [],
   "source": [
    "import os\n",
    "import pandas as pd\n",
    "import numpy as np\n",
    "import sys\n",
    "from models import *"
   ]
  },
  {
   "cell_type": "code",
   "execution_count": 2,
   "metadata": {},
   "outputs": [],
   "source": [
    "directory = os.path.join('..', '..', 'data', 'input_files_multimodal_SR41')"
   ]
  },
  {
   "cell_type": "markdown",
   "metadata": {},
   "source": [
    "## Read transit data"
   ]
  },
  {
   "cell_type": "code",
   "execution_count": 3,
   "metadata": {
    "scrolled": true
   },
   "outputs": [
    {
     "name": "stdout",
     "output_type": "stream",
     "text": [
      "{'41E': {'DMOND_ID': '990', 'frequency': 1800, 'stops': ['991', '992', '999', '998', '496', '1002', '988', '1006', '490', '478', '480', '477', '1013', '961', '1014', '1024', '1016'], 'DMDND_ID': '2017'}, '1S': {'DMOND_ID': '725', 'frequency': 600, 'stops': ['729', '236', '733', '108', '24', '59', '56', '1', '1915', '214', '1241', '1242', '1221', '1247', '592', '794', '797', '796', '817', '814', '819', '135', '1258', '1257', '1256', '1260', '1261', '834', '832', '1286', '1288', '836', '870', '227', '868', '866', '1301', '1292', '892', '865', '1313', '1312', '902', '898', '1324', '908', '533', '1351', '1344', '1335', '1339', '1337', '1916', '1338', '923', '921', '1362', '1363', '1358', '1366', '1361', '1367', '924', '232', '958', '956', '960', '955', '1022', '983', '980', '495', '1001', '496', '1007', '1009', '1008', '1030', '1003', '1043', '1041', '1057', '219', '1084', '1082', '1441', '1088', '1106', '1087', '1104', '1458', '1086', '1115', '1109', '1138', '1135', '1503', '1505', '1172', '429', '1162', '1133', '1161', '1160', '1158', '1494', '1490', '436', '126'], 'DMDND_ID': '2068'}, '39E': {'DMOND_ID': '1038', 'frequency': 1800, 'stops': ['1039', '1040', '1003', '1045', '1434', '1044', '501', '1048', '1047'], 'DMDND_ID': '2025'}, '9E': {'DMOND_ID': '107', 'frequency': 1800, 'stops': ['918', '532', '1350', '533', '1914', '35', '1328', '19', '6', '36', '94', '1333', '230', '17', '919'], 'DMDND_ID': '1988'}, '33W': {'DMOND_ID': '1142', 'frequency': 1800, 'stops': ['1209', '1202', '1203', '1204', '1486', '1143', '1485', '1144', '1145', '1127', '1140', '1146', '1478', '1480', '1477', '1479', '1141', '1150', '1137', '1151', '1138', '1152', '1153'], 'DMDND_ID': '2051'}, '28E': {'DMOND_ID': '975', 'frequency': 1200, 'stops': ['976', '977', '955', '973', '1409', '1404', '971', '1403', '1405', '974', '962', '987', '986'], 'DMDND_ID': '2010'}, '35E': {'DMOND_ID': '1089', 'frequency': 1800, 'stops': ['1091', '1092', '1087', '1097', '1096', '1098', '1094', '1095', '1452', '1093', '1451', '1449', '1128', '1090', '1129', '1131', '1455', '1132', '1201', '1200', '1208'], 'DMDND_ID': '2044'}, '35W': {'DMOND_ID': '1126', 'frequency': 1800, 'stops': ['1208', '1200', '1201', '1132', '1455', '1131', '1129', '1090', '1128', '1449', '1451', '1093', '1452', '1095', '1094', '1098', '1096', '1097', '1087', '1092', '1091'], 'DMDND_ID': '2039'}, '32S': {'DMOND_ID': '778', 'frequency': 1800, 'stops': ['777', '780', '782', '789', '786', '829', '1230', '1235', '1227', '828', '134', '1284', '1280', '851', '849', '848', '1273', '880', '882', '1278', '1277', '854', '18', '1300', '1294', '1296', '873', '872', '1322', '1317', '1318', '897', '230', '929', '927', '1381', '1382', '931', '926', '1383', '1377', '1378', '1376', '1379', '933', '515', '1393', '1396', '1402', '1397', '1394', '1395', '964', '962', '1414', '1415', '1412', '1416', '695', '961', '1423', '1422', '1012', '1010', '1432', '1433', '1431', '1037', '501', '1438', '1435', '1439', '1437', '82', '1050', '1053', '1466', '1075', '1467', '1468', '1465', '699', '1090', '1130', '1463', '1461', '1464', '1149', '1127', '1148', '1147', '1173', '1195', '1194', '1176', '1178', '442', '1181', '1180', '1174'], 'DMDND_ID': '2081'}, '41W': {'DMOND_ID': '489', 'frequency': 1800, 'stops': ['1016', '1024', '1014', '961', '1013', '477', '487', '479', '478', '490', '1006', '988', '1002', '496', '998', '999', '992', '991'], 'DMDND_ID': '2014'}, '39W': {'DMOND_ID': '1046', 'frequency': 1800, 'stops': ['1047', '1048', '501', '1044', '1434', '1045', '1003', '1040', '1039'], 'DMDND_ID': '2022'}, '9W': {'DMOND_ID': '229', 'frequency': 1800, 'stops': ['919', '17', '230', '1331', '94', '36', '136', '19', '1328', '35', '917', '533', '1350', '532', '918'], 'DMDND_ID': '1983'}, '34S': {'DMOND_ID': '1062', 'frequency': 1200, 'stops': ['1070', '1066', '30', '1069', '1063', '1067', '1201', '1207', '1205', '1472', '1474', '1471', '1473', '1206', '1203', '1186', '1212', '1213', '1191', '1192', '1184', '1190', '1189'], 'DMDND_ID': '2072'}, '33E': {'DMOND_ID': '1139', 'frequency': 1800, 'stops': ['1153', '1152', '1138', '1151', '1137', '1150', '1141', '1479', '1477', '1480', '1478', '1146', '1140', '1127', '1145', '1144', '1485', '1143', '1486', '1204', '1203', '1202', '1209'], 'DMDND_ID': '2056'}, '34N': {'DMOND_ID': '1185', 'frequency': 1200, 'stops': ['1189', '1190', '1184', '1192', '1191', '1213', '1212', '1186', '1203', '1206', '1473', '1471', '1474', '1472', '1205', '1207', '1201', '1446', '1063', '1071', '1068', '30', '1065'], 'DMDND_ID': '1064'}, '28W': {'DMOND_ID': '984', 'frequency': 1200, 'stops': ['986', '987', '962', '974', '1405', '1403', '971', '1404', '1409', '973', '955', '977', '976'], 'DMDND_ID': '2007'}}\n"
     ]
    }
   ],
   "source": [
    "input_file_name_transit = os.path.join(directory, 'transit_route_stops')\n",
    "bus_route_dic = {} # route_name : {'frequency(s)': int, 'DMOND_ID': str, 'DMDND_ID': str, 'stops':[list of node ID]}\n",
    "with open(input_file_name_transit, 'r') as infile:\n",
    "    for line in infile.readlines():\n",
    "        if line[0] != '#':\n",
    "            data = line.rstrip('\\n').split(' ')\n",
    "#             print data\n",
    "            bus_route_dic[data[0]] = {}\n",
    "            bus_route_dic[data[0]]['frequency'] =  int(data[1])\n",
    "            bus_route_dic[data[0]]['DMOND_ID'] =  data[2]\n",
    "            bus_route_dic[data[0]]['DMDND_ID'] =  data[3]\n",
    "            bus_route_dic[data[0]]['stops'] =  data[4:]\n",
    "            \n",
    "print bus_route_dic"
   ]
  },
  {
   "cell_type": "markdown",
   "metadata": {},
   "source": [
    "## Read parking data"
   ]
  },
  {
   "cell_type": "code",
   "execution_count": 4,
   "metadata": {
    "scrolled": true
   },
   "outputs": [
    {
     "name": "stdout",
     "output_type": "stream",
     "text": [
      "{'24': {'avg_crusing_time': 100, 'connections': ['1133'], 'fee': 10, 'distances': [100], 'total_capacity': 1000}, '25': {'avg_crusing_time': 100, 'connections': ['1184'], 'fee': 10, 'distances': [100], 'total_capacity': 1000}, '20': {'avg_crusing_time': 100, 'connections': ['1138', '1127'], 'fee': 10, 'distances': [200, 200], 'total_capacity': 1000}, '21': {'avg_crusing_time': 100, 'connections': ['1203'], 'fee': 10, 'distances': [100], 'total_capacity': 1000}, '22': {'avg_crusing_time': 100, 'connections': ['1135', '1147'], 'fee': 10, 'distances': [200, 200], 'total_capacity': 1000}, '23': {'avg_crusing_time': 100, 'connections': ['1213'], 'fee': 10, 'distances': [100], 'total_capacity': 1000}, '1': {'avg_crusing_time': 20, 'connections': ['236'], 'fee': 0, 'distances': [100], 'total_capacity': 2000}, '3': {'avg_crusing_time': 20, 'connections': ['794', '771'], 'fee': 0, 'distances': [200, 200], 'total_capacity': 2000}, '2': {'avg_crusing_time': 20, 'connections': ['214', '759'], 'fee': 0, 'distances': [200, 200], 'total_capacity': 2000}, '5': {'avg_crusing_time': 30, 'connections': ['135', '134'], 'fee': 1, 'distances': [200, 200], 'total_capacity': 2000}, '4': {'avg_crusing_time': 20, 'connections': ['796', '782'], 'fee': 0, 'distances': [200, 200], 'total_capacity': 2000}, '7': {'avg_crusing_time': 30, 'connections': ['227', '18'], 'fee': 1, 'distances': [200, 200], 'total_capacity': 2000}, '6': {'avg_crusing_time': 30, 'connections': ['832', '848'], 'fee': 1, 'distances': [200, 200], 'total_capacity': 2000}, '9': {'avg_crusing_time': 40, 'connections': ['533', '240'], 'fee': 2, 'distances': [200, 200], 'total_capacity': 2000}, '8': {'avg_crusing_time': 40, 'connections': ['865', '872'], 'fee': 2, 'distances': [200, 200], 'total_capacity': 2000}, '11': {'avg_crusing_time': 60, 'connections': ['232', '515'], 'fee': 3, 'distances': [200, 200], 'total_capacity': 1500}, '10': {'avg_crusing_time': 40, 'connections': ['921', '926'], 'fee': 2, 'distances': [200, 200], 'total_capacity': 2000}, '13': {'avg_crusing_time': 60, 'connections': ['496', '961'], 'fee': 3, 'distances': [200, 200], 'total_capacity': 1500}, '12': {'avg_crusing_time': 60, 'connections': ['955', '962'], 'fee': 3, 'distances': [200, 200], 'total_capacity': 1500}, '15': {'avg_crusing_time': 60, 'connections': ['1003', '501'], 'fee': 4, 'distances': [200, 200], 'total_capacity': 1500}, '14': {'avg_crusing_time': 60, 'connections': ['1008', '1010'], 'fee': 3, 'distances': [200, 200], 'total_capacity': 1500}, '17': {'avg_crusing_time': 60, 'connections': ['30'], 'fee': 5, 'distances': [100], 'total_capacity': 1500}, '16': {'avg_crusing_time': 60, 'connections': ['219', '1050'], 'fee': 5, 'distances': [200, 200], 'total_capacity': 1500}, '19': {'avg_crusing_time': 60, 'connections': ['1201'], 'fee': 5, 'distances': [100], 'total_capacity': 1500}, '18': {'avg_crusing_time': 60, 'connections': ['1087', '1090'], 'fee': 5, 'distances': [200, 200], 'total_capacity': 1500}}\n"
     ]
    }
   ],
   "source": [
    "input_file_name_parking = os.path.join(directory, 'parking_lot')\n",
    "parking_dic = {} # parking_lot_ID : {'fee($)': int, 'total_capacity': str, 'avg_crusing_time(s)': str, \n",
    "                                   # 'connections':[node ID], 'distances':[meters]}\n",
    "with open(input_file_name_parking, 'r') as infile:\n",
    "    for line in infile.readlines():\n",
    "        if line[0] != '#':\n",
    "            data = line.rstrip('\\n').split(' ')\n",
    "            parking_dic[data[0]] = {}\n",
    "            parking_dic[data[0]]['fee'] =  int(data[1])\n",
    "            parking_dic[data[0]]['total_capacity'] =  int(data[2])\n",
    "            parking_dic[data[0]]['avg_crusing_time'] =  int(data[3])\n",
    "            parking_dic[data[0]]['connections'] = []\n",
    "            parking_dic[data[0]]['distances'] = []\n",
    "            for i in range(4, len(data)):\n",
    "                parking_dic[data[0]]['connections'].append(data[i].split(':')[0])\n",
    "                parking_dic[data[0]]['distances'].append(int(data[i].split(':')[1]))\n",
    "print parking_dic"
   ]
  },
  {
   "cell_type": "markdown",
   "metadata": {},
   "source": [
    "## Generate driving paths"
   ]
  },
  {
   "cell_type": "code",
   "execution_count": null,
   "metadata": {},
   "outputs": [],
   "source": [
    "input_file_name_parking = os.path.join(directory, 'parking_lot')\n",
    "with open(input_file_name_parking, 'r') as infile:\n",
    "    for line in infile.readlines():\n",
    "        if line[0] != '#':\n",
    "            data = line.rstrip('\\n').split(' ')"
   ]
  }
 ],
 "metadata": {
  "kernelspec": {
   "display_name": "Python 2",
   "language": "python",
   "name": "python2"
  },
  "language_info": {
   "codemirror_mode": {
    "name": "ipython",
    "version": 2
   },
   "file_extension": ".py",
   "mimetype": "text/x-python",
   "name": "python",
   "nbconvert_exporter": "python",
   "pygments_lexer": "ipython2",
   "version": "2.7.15"
  }
 },
 "nbformat": 4,
 "nbformat_minor": 2
}
